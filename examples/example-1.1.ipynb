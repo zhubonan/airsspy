{
 "cells": [
  {
   "cell_type": "markdown",
   "metadata": {},
   "source": [
    "# Example 1.1\n",
    "This example follows the `examples/1.1`  \n",
    "Search for a simple lj crystal with 8 numbers percell"
   ]
  },
  {
   "cell_type": "code",
   "execution_count": 1,
   "metadata": {},
   "outputs": [],
   "source": [
    "from airsspy import SeedAtoms, Buildcell\n",
    "from tqdm.auto import tqdm\n",
    "\n",
    "# Import ase assets\n",
    "from ase.optimize import BFGSLineSearch, sciopt, FIRE, BFGS, precon\n",
    "from ase.calculators.lj import LennardJones\n",
    "from ase.constraints import UnitCellFilter, ExpCellFilter"
   ]
  },
  {
   "cell_type": "code",
   "execution_count": 2,
   "metadata": {},
   "outputs": [],
   "source": [
    "# Define the search seed\n",
    "\n",
    "seed = SeedAtoms('Al', cell=[2, 2, 2], pbc=True)\n",
    "seed.gentags.minsep = 1.5\n",
    "# Define per-atom tags, here it is simply request 8 Al atoms\n",
    "al = seed[0]\n",
    "al.num = 8"
   ]
  },
  {
   "cell_type": "code",
   "execution_count": 3,
   "metadata": {},
   "outputs": [],
   "source": [
    "# LJ potential calculator\n",
    "lj = LennardJones(signma=2, epsilon=1, beta=1, rc=2.5)"
   ]
  },
  {
   "cell_type": "code",
   "execution_count": 4,
   "metadata": {},
   "outputs": [
    {
     "name": "stdout",
     "output_type": "stream",
     "text": [
      "%BLOCK lattice_cart\n",
      "2.0000000000  0.0000000000  0.0000000000\n",
      "0.0000000000  2.0000000000  0.0000000000\n",
      "0.0000000000  0.0000000000  2.0000000000\n",
      "%ENDBLOCK lattice_cart\n",
      "%BLOCK positions_abs\n",
      "Al  0.0000000000 0.0000000000 0.0000000000 # Al0 % NUM=8\n",
      "%ENDBLOCK positions_abs\n",
      "#MINSEP=1.5\n",
      "\n"
     ]
    }
   ],
   "source": [
    "# The seed in text form\n",
    "print('\\n'.join(seed.get_cell_inp_lines()))"
   ]
  },
  {
   "cell_type": "markdown",
   "metadata": {},
   "source": [
    "## Generate the random structure\n",
    "The random structrue can be built by calling `build_random_atoms` method.\n",
    "An `ase.Atoms` object is returned."
   ]
  },
  {
   "cell_type": "code",
   "execution_count": 5,
   "metadata": {},
   "outputs": [],
   "source": [
    "rand_atoms = seed.build_random_atoms()"
   ]
  },
  {
   "cell_type": "markdown",
   "metadata": {},
   "source": [
    "Inpsect the cell"
   ]
  },
  {
   "cell_type": "code",
   "execution_count": 6,
   "metadata": {},
   "outputs": [
    {
     "data": {
      "text/plain": [
       "Cell([[2.12005, 0.0, 0.0], [-0.7258250466176692, 4.554031453756381, 0.0], [-0.6083780555145146, -1.7092519801209565, 6.33733973642892]])"
      ]
     },
     "execution_count": 6,
     "metadata": {},
     "output_type": "execute_result"
    }
   ],
   "source": [
    "rand_atoms.get_cell()"
   ]
  },
  {
   "cell_type": "markdown",
   "metadata": {},
   "source": [
    "Inspect the cell volume\n",
    "The initial cell volume is $2\\times2\\times2=8$ and we requested 8 atoms.\n",
    "So the target cell volume is 64 but `buildcell` will scale to a random value\n",
    "within 50%."
   ]
  },
  {
   "cell_type": "code",
   "execution_count": 7,
   "metadata": {},
   "outputs": [
    {
     "data": {
      "text/plain": [
       "61.1855853470401"
      ]
     },
     "execution_count": 7,
     "metadata": {},
     "output_type": "execute_result"
    }
   ],
   "source": [
    "rand_atoms.get_volume()"
   ]
  },
  {
   "cell_type": "code",
   "execution_count": 8,
   "metadata": {},
   "outputs": [
    {
     "data": {
      "text/plain": [
       "array([[1.33016898, 0.54343656, 5.45596852],\n",
       "       [1.07291236, 0.25251317, 3.49864838],\n",
       "       [0.2228569 , 1.66269419, 3.35633869],\n",
       "       [1.50858009, 1.47088937, 0.05854071],\n",
       "       [2.0562808 , 2.43838309, 3.00431118],\n",
       "       [0.15568396, 0.70533803, 4.79180677],\n",
       "       [2.02194829, 1.84321829, 4.68757286],\n",
       "       [0.66264855, 2.83948195, 0.49940956]])"
      ]
     },
     "execution_count": 8,
     "metadata": {},
     "output_type": "execute_result"
    }
   ],
   "source": [
    "rand_atoms.get_positions()"
   ]
  },
  {
   "cell_type": "markdown",
   "metadata": {},
   "source": [
    "## Do the search\n",
    "The search can be carried out directly using the calculator and optimizers in `ase` "
   ]
  },
  {
   "cell_type": "code",
   "execution_count": 9,
   "metadata": {},
   "outputs": [],
   "source": [
    "def gen_and_relax(seed, calc, opti):\n",
    "    \"\"\"\n",
    "    Generate and relax the cell\n",
    "    \"\"\"\n",
    "    rand_atoms = seed.build_random_atoms()\n",
    "    rand_atoms.set_pbc(True)  # Set the PBC as we are search from crystal\n",
    "    rand_atoms.set_calculator(calc)  # Attached hte calculator\n",
    "    # Apply the UnitCellFilter as we are also optimizing the cell\n",
    "    opt = opti(UnitCellFilter(rand_atoms), logfile=None) \n",
    "    opt.run(fmax=0.05)\n",
    "    return rand_atoms"
   ]
  },
  {
   "cell_type": "code",
   "execution_count": null,
   "metadata": {},
   "outputs": [],
   "source": [
    "res = []\n",
    "for i in tqdm(range(20)):\n",
    "    # A range of the possible optimization algorithm are possible\n",
    "    relaxed = gen_and_relax(seed, lj, BFGSLineSearch)\n",
    "    res.append(relaxed)"
   ]
  },
  {
   "cell_type": "markdown",
   "metadata": {},
   "source": [
    "## Get the symmetry of the relaxed structures"
   ]
  },
  {
   "cell_type": "code",
   "execution_count": 12,
   "metadata": {},
   "outputs": [
    {
     "data": {
      "text/plain": [
       "['Fm-3m (225)',\n",
       " 'Fm-3m (225)',\n",
       " 'Fm-3m (225)',\n",
       " 'P2_1/m (11)',\n",
       " 'Fm-3m (225)',\n",
       " 'Cm (8)',\n",
       " 'P6_3/mmc (194)',\n",
       " 'Fm-3m (225)',\n",
       " 'P6_3/mmc (194)',\n",
       " 'C2/m (12)',\n",
       " 'Fm-3m (225)',\n",
       " 'Fm-3m (225)',\n",
       " 'Fm-3m (225)',\n",
       " 'Imma (74)',\n",
       " 'Cm (8)',\n",
       " 'C2/m (12)',\n",
       " 'Fm-3m (225)',\n",
       " 'P6_3/mmc (194)',\n",
       " 'P-1 (2)',\n",
       " 'P6_3/mmc (194)']"
      ]
     },
     "execution_count": 12,
     "metadata": {},
     "output_type": "execute_result"
    }
   ],
   "source": [
    "from spglib import get_spacegroup\n",
    "spg = [get_spacegroup(i, 0.5) for i in res]\n",
    "spg"
   ]
  },
  {
   "cell_type": "markdown",
   "metadata": {},
   "source": [
    "## Alternatively, use the native airss script to run the search"
   ]
  },
  {
   "cell_type": "code",
   "execution_count": 11,
   "metadata": {},
   "outputs": [],
   "source": [
    "!mkdir work"
   ]
  },
  {
   "cell_type": "code",
   "execution_count": 15,
   "metadata": {},
   "outputs": [],
   "source": [
    "# The content of the LJ potential file\n",
    "pp = \"1 12 6 2.5\\nAl\\n# Epsilon\\n1\\n# Sigma\\n2\\n# Beta\\n1\""
   ]
  },
  {
   "cell_type": "code",
   "execution_count": 17,
   "metadata": {},
   "outputs": [
    {
     "name": "stdout",
     "output_type": "stream",
     "text": [
      "7.44 s ± 0 ns per loop (mean ± std. dev. of 1 run, 1 loop each)\n"
     ]
    }
   ],
   "source": [
    "%%timeit -n 1 -r 1\n",
    "seed.write_seed('work/Al.cell')\n",
    "from pathlib import Path\n",
    "Path(\"work/Al.pp\").write_text(pp)\n",
    "!cd work && airss.pl -seed Al -max 20 -pp3 && cd ../"
   ]
  },
  {
   "cell_type": "markdown",
   "metadata": {},
   "source": [
    "Note that the `pp3` program for relxation will run significantly faster than doing so in python"
   ]
  },
  {
   "cell_type": "code",
   "execution_count": 18,
   "metadata": {},
   "outputs": [
    {
     "name": "stdout",
     "output_type": "stream",
     "text": [
      "Al-581-4050-17          -0.00     7.561      -6.659   8 Al           P63/mmc    1\n",
      "Al-581-4050-4           -0.00     7.561       0.000   8 Al           P63/mmc    1\n",
      "Al-581-4050-6           -0.00     7.561       0.000   8 Al           P63/mmc    1\n",
      "Al-581-4050-19          -0.00     7.561       0.000   8 Al           P63/mmc    1\n",
      "Al-581-4050-18          -0.00     7.562       0.002   8 Al           R-3m       1\n",
      "Al-581-4050-9            0.00     7.562       0.002   8 Al           R-3m       1\n",
      "Al-581-4050-11          -0.00     7.564       0.005   8 Al           Fm-3m      1\n",
      "Al-581-4050-10          -0.00     7.564       0.005   8 Al           Fm-3m      1\n",
      "Al-581-4050-2            0.00     7.564       0.005   8 Al           Fm-3m      1\n",
      "Al-581-4050-14           0.00     7.564       0.005   8 Al           Fm-3m      1\n",
      "Al-581-4050-20          -0.00     7.564       0.005   8 Al           Fm-3m      1\n",
      "Al-581-4050-8            0.00     7.564       0.005   8 Al           Fm-3m      1\n",
      "Al-581-4050-3           -0.00     7.564       0.005   8 Al           Fm-3m      1\n",
      "Al-581-4050-5           -0.00     7.564       0.005   8 Al           Fm-3m      1\n",
      "Al-581-4050-12           0.00     7.564       0.005   8 Al           Fm-3m      1\n",
      "Al-581-4050-13           0.00     7.564       0.005   8 Al           Fm-3m      1\n",
      "Al-581-4050-15           0.00     7.784       0.260   8 Al           C2/m       1\n",
      "Al-581-4050-7           -0.00     7.825       0.360   8 Al           Immm       1\n",
      "Al-581-4050-16          -0.00     7.899       0.443   8 Al           Cm         1\n",
      "Al-581-4050-1           -0.00     8.474       0.819   8 Al           P-1        1\n",
      "/home/jovyan/examples\n"
     ]
    }
   ],
   "source": [
    "!cd work/ &&  ca -r -u 0.01 && cd -"
   ]
  }
 ],
 "metadata": {
  "kernelspec": {
   "display_name": "Python 3",
   "language": "python",
   "name": "python3"
  },
  "language_info": {
   "codemirror_mode": {
    "name": "ipython",
    "version": 3
   },
   "file_extension": ".py",
   "mimetype": "text/x-python",
   "name": "python",
   "nbconvert_exporter": "python",
   "pygments_lexer": "ipython3",
   "version": "3.7.10"
  }
 },
 "nbformat": 4,
 "nbformat_minor": 2
}
