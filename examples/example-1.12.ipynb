{
 "cells": [
  {
   "cell_type": "markdown",
   "metadata": {},
   "source": [
    "# Example 1.12\n",
    "Pack atoms into a nanotube.  \n",
    "Demostrate assigning per atom tags in `ase`.\n",
    "The nanotube structure is built from the routine provided by `ase.build`."
   ]
  },
  {
   "cell_type": "code",
   "execution_count": null,
   "metadata": {},
   "outputs": [],
   "source": [
    "from airsspy import SeedAtoms, Buildcell\n",
    "from tqdm.auto import tqdm\n",
    "\n",
    "# Import ase assets\n",
    "from ase import Atoms"
   ]
  },
  {
   "cell_type": "code",
   "execution_count": null,
   "metadata": {},
   "outputs": [],
   "source": [
    "from ase.build import nanotube\n",
    "\n",
    "# Use ase to create a tube\n",
    "tube = nanotube(8, 8)\n",
    "# Manually set the cell in x,y direction\n",
    "tube.cell[0, 0] = 20\n",
    "tube.cell[1, 1] = 20\n",
    "tube.extend(Atoms('B'))\n",
    "seed = SeedAtoms(tube)"
   ]
  },
  {
   "cell_type": "markdown",
   "metadata": {},
   "source": [
    "Define the global `buildcell` tags "
   ]
  },
  {
   "cell_type": "code",
   "execution_count": null,
   "metadata": {},
   "outputs": [],
   "source": [
    "seed.gentags.supercell = '1 1 3'\n",
    "seed.gentags.slack = 0.25\n",
    "seed.gentags.minsep = [1.0, {'A-A':1.3, 'B-B':2, 'A-B':2}]\n",
    "seed.gentags.fix = True"
   ]
  },
  {
   "cell_type": "markdown",
   "metadata": {},
   "source": [
    "Define the per atom tags"
   ]
  },
  {
   "cell_type": "code",
   "execution_count": null,
   "metadata": {},
   "outputs": [],
   "source": [
    "# The per atoms tags supports tab completion\n",
    "for atom in seed:\n",
    "    if atom.symbol == 'C':\n",
    "        atom.fix = True\n",
    "        atom.posamp = 0\n",
    "    else:\n",
    "        atom.num = 24\n",
    "        atom.zamp = -1\n",
    "        atom.xamp = 5\n",
    "        atom.yamp = 5\n",
    "        atom.adatom = True"
   ]
  },
  {
   "cell_type": "code",
   "execution_count": null,
   "metadata": {},
   "outputs": [],
   "source": [
    "print('\\n'.join(seed.get_cell_inp_lines()))"
   ]
  },
  {
   "cell_type": "code",
   "execution_count": null,
   "metadata": {},
   "outputs": [],
   "source": [
    "bc = Buildcell(seed)\n",
    "atoms = bc.generate()"
   ]
  },
  {
   "cell_type": "markdown",
   "metadata": {},
   "source": [
    "# Visualize \n",
    "We use the 'x3d' vsualizer native to the `ase` here."
   ]
  },
  {
   "cell_type": "code",
   "execution_count": null,
   "metadata": {},
   "outputs": [],
   "source": [
    "from ase.visualize import view"
   ]
  },
  {
   "cell_type": "code",
   "execution_count": null,
   "metadata": {},
   "outputs": [],
   "source": [
    "atoms = bc.generate()\n",
    "atoms.translate([atoms.cell[0, 0]/2, atoms.cell[1, 1]/ 2, 0])\n",
    "atoms.pbc = True\n",
    "atoms.wrap()\n",
    "atoms.translate([-atoms.cell[0, 0]/2, -atoms.cell[1, 1]/ 2, 0])"
   ]
  },
  {
   "cell_type": "code",
   "execution_count": null,
   "metadata": {},
   "outputs": [],
   "source": [
    "# Note that you may have left click and drag to rotate the view in order to see any atoms\n",
    "# double click to focus on one atom and drag to rotate the view \n",
    "view(atoms, viewer='x3d')"
   ]
  },
  {
   "cell_type": "markdown",
   "metadata": {},
   "source": [
    "The random structure can then be relaxed using the code of choice."
   ]
  }
 ],
 "metadata": {
  "kernelspec": {
   "display_name": "Python [conda env:py3works]",
   "language": "python",
   "name": "conda-env-py3works-py"
  },
  "language_info": {
   "codemirror_mode": {
    "name": "ipython",
    "version": 3
   },
   "file_extension": ".py",
   "mimetype": "text/x-python",
   "name": "python",
   "nbconvert_exporter": "python",
   "pygments_lexer": "ipython3",
   "version": "3.6.8"
  }
 },
 "nbformat": 4,
 "nbformat_minor": 2
}
